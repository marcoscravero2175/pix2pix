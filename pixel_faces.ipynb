{
  "nbformat": 4,
  "nbformat_minor": 0,
  "metadata": {
    "colab": {
      "name": "pixel_faces.ipynb",
      "version": "0.3.2",
      "provenance": [],
      "collapsed_sections": []
    },
    "kernelspec": {
      "name": "python3",
      "display_name": "Python 3"
    },
    "accelerator": "GPU"
  },
  "cells": [
    {
      "cell_type": "code",
      "metadata": {
        "id": "X_3nUAgM9sOY",
        "colab_type": "code",
        "colab": {}
      },
      "source": [
        "from google.colab import drive\n",
        "drive.mount('/content/drive')"
      ],
      "execution_count": 0,
      "outputs": []
    },
    {
      "cell_type": "code",
      "metadata": {
        "id": "wlmITCL79Xea",
        "colab_type": "code",
        "colab": {}
      },
      "source": [
        "import torch\n",
        "import torchvision\n",
        "import torchvision.transforms as tranforms\n",
        "\n",
        "\n",
        "\n",
        "import matplotlib.pyplot as plt\n",
        "#import cv2\n",
        "import numpy as np"
      ],
      "execution_count": 0,
      "outputs": []
    },
    {
      "cell_type": "code",
      "metadata": {
        "id": "hNX9RZBM9t7q",
        "colab_type": "code",
        "colab": {}
      },
      "source": [
        "ROOT = '/content/drive/My Drive/Proyecto.csv/pixel/'\n",
        "NOPIXEL = ROOT + 'no-pixeled/'\n",
        "PIXEL= ROOT + 'pixeled/'\n",
        "\n",
        "all_im = !ls -1 '{PIXEL}'"
      ],
      "execution_count": 0,
      "outputs": []
    },
    {
      "cell_type": "code",
      "metadata": {
        "id": "RhmO6fZ5-Eac",
        "colab_type": "code",
        "colab": {}
      },
      "source": [
        "from torch.utils.data import Dataset\n",
        "from PIL import Image\n",
        "import random\n",
        "\n",
        "# Define loader class\n",
        "class PIX2PIXloader(Dataset):\n",
        "  '''\n",
        "  Loader for pix2pix applications\n",
        "  '''\n",
        "  def __init__(self, \n",
        "               name_list=None, \n",
        "               inp_dir=None, \n",
        "               out_dir=None, \n",
        "               dim=(286,286), \n",
        "               transform=torchvision.transforms.ToTensor()):\n",
        "    \n",
        "    self.transform = transform\n",
        "    self.inp_name = []\n",
        "    self.out_name = []\n",
        "    \n",
        "    for name in name_list:\n",
        "      self.inp_name.append(inp_dir + name)\n",
        "      self.out_name.append(out_dir + name)\n",
        "    \n",
        "  def __len__(self):\n",
        "    return len(self.inp_name)\n",
        "  \n",
        "  def __getitem__(self, idx):\n",
        "    inp_im = Image.open(self.inp_name[idx])\n",
        "    out_im = Image.open(self.out_name[idx])\n",
        "    \n",
        "    seed = np.random.randint(2492759872)\n",
        "      \n",
        "    random.seed(seed)\n",
        "    inp_im = self.transform(inp_im)\n",
        "      \n",
        "    random.seed(seed)\n",
        "    out_im = self.transform(out_im)\n",
        "    return inp_im, out_im"
      ],
      "execution_count": 0,
      "outputs": []
    },
    {
      "cell_type": "code",
      "metadata": {
        "id": "Nf0PXoq9Azv4",
        "colab_type": "code",
        "colab": {}
      },
      "source": [
        "np.random.shuffle(all_im)\n",
        "n = len(all_im) # Numero total de imagenes\n",
        "tr_dim = round(n * 0.8) # Numero de imagenes a train\n",
        "train_names = all_im[:tr_dim] # Imagenes al grupo de train\n",
        "validation_names = all_im[tr_dim:] # Imagenes al grupo de validacion\n",
        "\n",
        "transforms = torchvision.transforms.Compose([\n",
        "             torchvision.transforms.Resize((300,300)),\n",
        "             torchvision.transforms.RandomHorizontalFlip(),\n",
        "             torchvision.transforms.RandomCrop(size=(286,286)),\n",
        "             torchvision.transforms.ToTensor()\n",
        "])\n",
        "\n",
        "train_dataset = PIX2PIXloader(name_list=train_names, \n",
        "                              inp_dir=NOPIXEL,\n",
        "                              out_dir=PIXEL,\n",
        "                              transform=transforms)\n",
        "\n",
        "transforms = torchvision.transforms.Compose([\n",
        "             torchvision.transforms.Resize((286,286)),\n",
        "             torchvision.transforms.ToTensor()\n",
        "])\n",
        "validation_dataset = PIX2PIXloader(name_list=validation_names, \n",
        "                                   inp_dir=NOPIXEL,\n",
        "                                   out_dir=PIXEL,\n",
        "                                   transform=transforms)\n",
        "\n",
        "train_loader = torch.utils.data.DataLoader(\n",
        "        train_dataset,\n",
        "        batch_size=1,\n",
        "        num_workers=0,\n",
        "        shuffle=True,\n",
        "        pin_memory=True\n",
        "    )\n",
        "\n",
        "validation_loader = torch.utils.data.DataLoader(\n",
        "        validation_dataset,\n",
        "        batch_size=1,\n",
        "        num_workers=0,\n",
        "        shuffle=True,\n",
        "        pin_memory=True\n",
        "    )"
      ],
      "execution_count": 0,
      "outputs": []
    },
    {
      "cell_type": "code",
      "metadata": {
        "id": "_o8g6jzxOReE",
        "colab_type": "code",
        "colab": {}
      },
      "source": [
        "# Imprimir algunos ejemplos del grupo de entrenamiento.\n",
        "for i in range(3):\n",
        "  (inp, targ) = next(iter(train_loader))\n",
        "  fig, ax = plt.subplots(1,2)\n",
        "  ax[0].imshow(inp[0].numpy().transpose(1,2,0))\n",
        "  ax[1].imshow(targ[0].numpy().transpose(1,2,0))\n",
        "  plt.show()"
      ],
      "execution_count": 0,
      "outputs": []
    },
    {
      "cell_type": "code",
      "metadata": {
        "id": "5b4q87ieCHvT",
        "colab_type": "code",
        "colab": {}
      },
      "source": [
        "# Definiciones de generador y discriminador\n",
        "# Copiado de: \n",
        "#https://github.com/Eiji-Kb/simple-pix2pix-pytorch/blob/master/models.py\n",
        "\n",
        "import torch\n",
        "import torch.nn as nn\n",
        "import torch.nn.functional as F\n",
        "\n",
        "\n",
        "class Generator(nn.Module):\n",
        "    def __init__(self, in_channels, out_channels):\n",
        "        super(Generator, self).__init__()\n",
        "\n",
        "        self.c0 = nn.Conv2d(in_channels, 64, 4, stride=2, padding=1)\n",
        "        self.c1 = nn.Conv2d(64, 128, 4, stride=2, padding=1)\n",
        "        self.c2 = nn.Conv2d(128, 256, 4, stride=2, padding=1)\n",
        "        self.c3 = nn.Conv2d(256, 512, 4, stride=2, padding=1)\n",
        "        self.c4 = nn.Conv2d(512, 512, 4, stride=2, padding=1)\n",
        "        self.c5 = nn.Conv2d(512, 512, 4, stride=2, padding=1)\n",
        "        self.c6 = nn.Conv2d(512, 512, 4, stride=2, padding=1)\n",
        "        self.c7 = nn.Conv2d(512, 512, 4, stride=2, padding=1)\n",
        "\n",
        "        self.d7 = nn.ConvTranspose2d(512, 512, 4, stride=2, padding=1)\n",
        "        self.d6 = nn.ConvTranspose2d(1024, 512, 4, stride=2, padding=1)\n",
        "        self.d5 = nn.ConvTranspose2d(1024, 512, 4, stride=2, padding=1)\n",
        "        self.d4 = nn.ConvTranspose2d(1024, 512, 4, stride=2, padding=1,output_padding=1)\n",
        "        self.d3 = nn.ConvTranspose2d(1024, 256, 4, stride=2, padding=1,output_padding=1)\n",
        "        self.d2 = nn.ConvTranspose2d(512, 128, 4, stride=2, padding=1,output_padding=1)\n",
        "        self.d1 = nn.ConvTranspose2d(256, 64, 4, stride=2, padding=1, output_padding=1)\n",
        "        self.d0 = nn.ConvTranspose2d(128, out_channels, 4, stride=2, padding=1)\n",
        "       \n",
        "        self.bnc1 = nn.BatchNorm2d(128)\n",
        "        self.bnc2 = nn.BatchNorm2d(256)\n",
        "        self.bnc3 = nn.BatchNorm2d(512)\n",
        "        self.bnc4 = nn.BatchNorm2d(512)\n",
        "        self.bnc5 = nn.BatchNorm2d(512)\n",
        "        self.bnc6 = nn.BatchNorm2d(512)\n",
        "\n",
        "        self.bnd7 = nn.BatchNorm2d(512)\n",
        "        self.bnd6 = nn.BatchNorm2d(512)\n",
        "        self.bnd5 = nn.BatchNorm2d(512)\n",
        "        self.bnd4 = nn.BatchNorm2d(512)\n",
        "        self.bnd3 = nn.BatchNorm2d(256)\n",
        "        self.bnd2 = nn.BatchNorm2d(128)\n",
        "        self.bnd1 = nn.BatchNorm2d(64)\n",
        "        \n",
        "    def forward(self, x):     \n",
        "        en0 = self.c0(x)\n",
        "        en1 = self.bnc1(self.c1(F.leaky_relu(en0, negative_slope=0.2)))\n",
        "        en2 = self.bnc2(self.c2(F.leaky_relu(en1, negative_slope=0.2)))\n",
        "        en3 = self.bnc3(self.c3(F.leaky_relu(en2, negative_slope=0.2)))\n",
        "        en4 = self.bnc4(self.c4(F.leaky_relu(en3, negative_slope=0.2)))\n",
        "        en5 = self.bnc5(self.c5(F.leaky_relu(en4, negative_slope=0.2)))\n",
        "        en6 = self.bnc6(self.c6(F.leaky_relu(en5, negative_slope=0.2)))\n",
        "        en7 = self.c7(F.leaky_relu(en6, negative_slope=0.2))\n",
        "\n",
        "        de7 = self.bnd7(self.d7(F.relu(en7)))\n",
        "        de6 = F.dropout(self.bnd6(self.d6(F.relu(torch.cat((en6, de7),1)))))\n",
        "        de5 = F.dropout(self.bnd5(self.d5(F.relu(torch.cat((en5, de6),1)))))\n",
        "        de4 = F.dropout(self.bnd4(self.d4(F.relu(torch.cat((en4, de5),1)))))\n",
        "        de3 = self.bnd3(self.d3(F.relu(torch.cat((en3, de4),1))))\n",
        "        de2 = self.bnd2(self.d2(F.relu(torch.cat((en2, de3),1))))\n",
        "        de1 = self.bnd1(self.d1(F.relu(torch.cat((en1, de2),1))))\n",
        "\n",
        "        de0 = torch.tanh(self.d0(F.relu(torch.cat((en0, de1),1))))       \n",
        "\n",
        "        return de0\n",
        "\n",
        "\n",
        "class Discriminator(nn.Module):\n",
        "    def __init__(self, in_channels1, in_channels2):\n",
        "        super(Discriminator, self).__init__()\n",
        "\n",
        "        self.c0 = nn.Conv2d(in_channels1 + in_channels2, 64, 4, stride=2, padding=2)\n",
        "        self.c1 = nn.Conv2d(64, 128, 4, stride=2, padding=2)\n",
        "        self.c2 = nn.Conv2d(128, 256, 4, stride=2, padding=2)\n",
        "        self.c3 = nn.Conv2d(256, 512, 4, stride=1, padding=2)\n",
        "        self.c4 = nn.Conv2d(512, 1, 4, stride=1, padding=2)\n",
        "\n",
        "        self.bnc1 = nn.BatchNorm2d(128)\n",
        "        self.bnc2 = nn.BatchNorm2d(256)\n",
        "        self.bnc3 = nn.BatchNorm2d(512)        \n",
        "\n",
        "    def forward(self, x1, x2):\n",
        "        h = self.c0(torch.cat((x1, x2),1))\n",
        "        h = self.bnc1(self.c1(F.leaky_relu(h, negative_slope=0.2)))\n",
        "        h = self.bnc2(self.c2(F.leaky_relu(h, negative_slope=0.2)))\n",
        "        h = self.bnc3(self.c3(F.leaky_relu(h, negative_slope=0.2)))\n",
        "        h = self.c4(F.leaky_relu(h, negative_slope=0.2))\n",
        "        h = torch.sigmoid(h)\n",
        "\n",
        "        return h"
      ],
      "execution_count": 0,
      "outputs": []
    },
    {
      "cell_type": "code",
      "metadata": {
        "id": "S8-tN0eZyPn1",
        "colab_type": "code",
        "colab": {}
      },
      "source": [
        "in_channels, out_channels = 3, 3\n",
        "# Instanciar generador y discriminador\n",
        "generator = Generator(in_channels, out_channels)\n",
        "discriminator = Discriminator(in_channels, out_channels)\n",
        "\n",
        "device = 'cuda' if torch.cuda.is_available() else 'cpu'\n",
        "\n",
        "print('Device:', device)\n",
        "generator.to(device)\n",
        "discriminator.to(device)"
      ],
      "execution_count": 0,
      "outputs": []
    },
    {
      "cell_type": "code",
      "metadata": {
        "id": "1soqS9z2GGxq",
        "colab_type": "code",
        "colab": {}
      },
      "source": [
        "# Definicion de funciones de error\n",
        "L1 = nn.L1Loss()\n",
        "loss_binaryCrossEntropy = nn.BCELoss()\n",
        "\n",
        "# Optimizador.\n",
        "gen_opt = torch.optim.Adam(generator.parameters(), lr= 0.0002, betas=(0.5, 0.999), weight_decay= 0.00001)\n",
        "dis_opt = torch.optim.Adam(discriminator.parameters(), lr= 0.0002, betas=(0.5, 0.999), weight_decay= 0.00001)"
      ],
      "execution_count": 0,
      "outputs": []
    },
    {
      "cell_type": "code",
      "metadata": {
        "id": "HaEBa1Bazndm",
        "colab_type": "code",
        "colab": {}
      },
      "source": [
        "# Definir errores en generador y discriminador\n",
        "LAMBDA = 100\n",
        "\n",
        "def generator_loss(disc_generated_output, gen_output, target):\n",
        "  gan_loss = loss_binaryCrossEntropy(disc_generated_output, torch.ones_like(disc_generated_output))\n",
        "  \n",
        "  l1_loss = L1(target, gen_output)\n",
        "  \n",
        "  total_gen_loss = gan_loss + (LAMBDA * l1_loss)\n",
        "  \n",
        "  return total_gen_loss\n",
        "\n",
        "def discriminator_loss(disc_real_output, disc_generated_output):\n",
        "  real_loss = loss_binaryCrossEntropy(disc_real_output, torch.ones_like(disc_real_output))\n",
        "  \n",
        "  generated_loss = loss_binaryCrossEntropy(disc_generated_output, torch.zeros_like(disc_generated_output))\n",
        "  \n",
        "  total_disc_loss = real_loss + generated_loss\n",
        "  \n",
        "  return total_disc_loss"
      ],
      "execution_count": 0,
      "outputs": []
    },
    {
      "cell_type": "code",
      "metadata": {
        "id": "BkAEsYx-G0HO",
        "colab_type": "code",
        "colab": {}
      },
      "source": [
        "# Save checkpoint\n",
        "def checkpoint(PATH, generator, discriminator, epoch):\n",
        "    gen_state = generator.state_dict()\n",
        "    dis_state = discriminator.state_dict()\n",
        "    \n",
        "    ch = {\n",
        "        'epoch' : epoch,\n",
        "        'generator' : gen_state,\n",
        "        'discriminator' : dis_state\n",
        "    }\n",
        "    \n",
        "    filename = 'checkpoint.pth'\n",
        "    \n",
        "    total_path = PATH + '/' + filename\n",
        "    torch.save(ch, total_path)\n",
        "    print('Checkpoint saved: {}'.format(total_path))"
      ],
      "execution_count": 0,
      "outputs": []
    },
    {
      "cell_type": "code",
      "metadata": {
        "id": "XXBhIMQm1lkQ",
        "colab_type": "code",
        "colab": {}
      },
      "source": [
        "from IPython.display import clear_output\n",
        "\n",
        "def train(generator, \n",
        "          discriminator, \n",
        "          device, \n",
        "          max_epoch=1000,\n",
        "          it_val=100):\n",
        "  \n",
        "  for epoch in range(max_epoch):\n",
        "    generator.train()\n",
        "    discriminator.train()\n",
        "    for i, (inp, targ) in enumerate(train_loader):\n",
        "      inp, targ = inp.to(device), targ.to(device)\n",
        "      \n",
        "      output_image = generator(inp)\n",
        "      out_gen_discr = discriminator(output_image, inp)\n",
        "      out_trg_discr = discriminator(targ, inp)\n",
        "      \n",
        "      discr_loss = discriminator_loss(out_trg_discr, out_gen_discr)\n",
        "      gen_loss = generator_loss(out_gen_discr, output_image, targ)\n",
        "      \n",
        "      gen_opt.zero_grad()\n",
        "      dis_opt.zero_grad()\n",
        "      \n",
        "      discr_loss.backward(retain_graph=True)\n",
        "      gen_loss.backward()\n",
        "      \n",
        "      gen_opt.step()\n",
        "      dis_opt.step()\n",
        "      \n",
        "    if epoch % it_val == 0:\n",
        "      clear_output(wait=True)\n",
        "      checkpoint('./', generator, discriminator, epoch)\n",
        "      generator.eval()\n",
        "      \n",
        "      output_image = generator(inp)\n",
        "      \n",
        "      fig, ax = plt.subplots(1,3)\n",
        "      ax[0].imshow(inp[0].data.cpu().numpy().transpose(1,2,0))\n",
        "      ax[1].imshow(output_image[0].data.cpu().numpy().transpose(1,2,0))\n",
        "      ax[2].imshow(targ[0].data.cpu().numpy().transpose(1,2,0))\n",
        "      plt.show()"
      ],
      "execution_count": 0,
      "outputs": []
    },
    {
      "cell_type": "code",
      "metadata": {
        "id": "du1XLtd_6jkN",
        "colab_type": "code",
        "colab": {
          "base_uri": "https://localhost:8080/",
          "height": 185
        },
        "outputId": "29e39c98-59eb-4d02-a0af-022d36f26c92"
      },
      "source": [
        "train(generator, discriminator,device=device, max_epoch=1000)"
      ],
      "execution_count": 0,
      "outputs": [
        {
          "output_type": "stream",
          "text": [
            "Clipping input data to the valid range for imshow with RGB data ([0..1] for floats or [0..255] for integers).\n"
          ],
          "name": "stderr"
        },
        {
          "output_type": "stream",
          "text": [
            "Checkpoint saved: .//checkpoint.pth\n"
          ],
          "name": "stdout"
        },
        {
          "output_type": "display_data",
          "data": {
            "image/png": "[encoded data removed]",
            "text/plain": [
              "<Figure size 432x288 with 3 Axes>"
            ]
          },
          "metadata": {
            "tags": []
          }
        }
      ]
    },
    {
      "cell_type": "code",
      "metadata": {
        "id": "Hl0mp7tm6k0Y",
        "colab_type": "code",
        "colab": {}
      },
      "source": [
        ""
      ],
      "execution_count": 0,
      "outputs": []
    }
  ]
}